{
 "cells": [
  {
   "cell_type": "code",
   "execution_count": 32,
   "id": "b1a74cab",
   "metadata": {
    "scrolled": true
   },
   "outputs": [],
   "source": [
    "import PIL as pl\n",
    "from PIL import Image\n",
    "from PIL import ImageFont\n",
    "from PIL import ImageDraw \n",
    "import random\n",
    "import math"
   ]
  },
  {
   "cell_type": "code",
   "execution_count": 152,
   "id": "ec0465f3",
   "metadata": {},
   "outputs": [],
   "source": [
    "#función que crea las áreas de las figuras, devuelve un diccionario.\n",
    "def areas():\n",
    "    area_principal=random.randint(2000, 18000)\n",
    "    \n",
    "    area_a=area_principal + (random.randint(-1000, 18000))\n",
    "    area_b=area_principal + (random.randint(-1000, 18000))\n",
    "    area_c=area_principal + (random.randint(-1000, 18000))\n",
    "    diccionario_areas = {\"principal\":area_principal, \"figura_a\":area_a, \"figura_b\":area_b, \"figura_c\":area_c}\n",
    "    return diccionario_areas\n",
    "\n",
    "\n",
    "    \n",
    "    "
   ]
  },
  {
   "cell_type": "code",
   "execution_count": 154,
   "id": "1a983e26",
   "metadata": {},
   "outputs": [
    {
     "data": {
      "text/plain": [
       "{'principal': 8895, 'figura_a': 13607, 'figura_b': 23244, 'figura_c': 24309}"
      ]
     },
     "execution_count": 154,
     "metadata": {},
     "output_type": "execute_result"
    }
   ],
   "source": [
    "diccionario_areas=areas()\n",
    "diccionario_areas"
   ]
  },
  {
   "cell_type": "code",
   "execution_count": 148,
   "id": "e41c66f3",
   "metadata": {},
   "outputs": [],
   "source": [
    "#función que obtiene los lados del rectángulo a partir del area obtenida en def areas()\n",
    "def lados_rect(area):\n",
    "    base=random.randint(100, 200)\n",
    "    altura=area/base\n",
    "    dic_principal={\"base\":base, \"altura\":altura}\n",
    "    return dic_principal"
   ]
  },
  {
   "cell_type": "code",
   "execution_count": 149,
   "id": "d9270b95",
   "metadata": {},
   "outputs": [],
   "source": [
    "dic_principal=lados_rect(diccionario_areas[\"principal\"])"
   ]
  },
  {
   "cell_type": "code",
   "execution_count": 150,
   "id": "e69b0148",
   "metadata": {
    "scrolled": true
   },
   "outputs": [
    {
     "data": {
      "text/plain": [
       "{'base': 103, 'altura': 40.89320388349515}"
      ]
     },
     "execution_count": 150,
     "metadata": {},
     "output_type": "execute_result"
    }
   ],
   "source": [
    "dic_principal"
   ]
  },
  {
   "cell_type": "code",
   "execution_count": 121,
   "id": "08566003",
   "metadata": {},
   "outputs": [],
   "source": [
    "#función para crear diámetros a partir de las áreas de def areas(), devuelve otro diccionario\n",
    "def diametros():\n",
    "    diametro_a=(area_a/math.pi)**(1/2)*2\n",
    "    diametro_b=(area_b/math.pi)**(1/2)*2\n",
    "    diametro_c=(area_c/math.pi)**(1/2)*2\n",
    "    dic_diametro={\"diametro_a\":diametro_a,\"diametro_b\":diametro_b,\"diametro_c\":diametro_c}\n",
    "    return dic_diametro\n"
   ]
  },
  {
   "cell_type": "code",
   "execution_count": 122,
   "id": "ad4b79d0",
   "metadata": {
    "scrolled": true
   },
   "outputs": [],
   "source": [
    "diametros=diametros()"
   ]
  },
  {
   "cell_type": "code",
   "execution_count": 123,
   "id": "2c19fd1f",
   "metadata": {},
   "outputs": [
    {
     "data": {
      "text/plain": [
       "148.33787719969934"
      ]
     },
     "execution_count": 123,
     "metadata": {},
     "output_type": "execute_result"
    }
   ],
   "source": [
    "diametros[\"diametro_b\"]"
   ]
  },
  {
   "cell_type": "code",
   "execution_count": 140,
   "id": "d903f6fe",
   "metadata": {},
   "outputs": [],
   "source": [
    "#función que hace el dibujo para adivinar las figuras a partir de diámetros (obtenidos de def diametros) \n",
    "# y lados de rectangulo (obtenidos de def lados_rect()), traza dibujo.\n",
    "def rect (a, b, c, d, e):\n",
    "    im = Image.new('RGB', (666, 400), (200, 200, 200))\n",
    "    draw = ImageDraw.Draw(im)\n",
    "\n",
    "    # font = ImageFont.truetype(<font-file>, <font-size>)\n",
    "    font_type=\"/Users/groundcontrol/Documents/Processing/modes/PythonMode/examples/Basics/Data/DatatypeConversion/data/Georgia.ttf\"\n",
    "    font = ImageFont.truetype(font_type, 25)\n",
    "    \n",
    "    draw.rectangle((272, 50, 272+e, 50+d), fill=\"red\")\n",
    "    \n",
    "    draw.ellipse((50, 200, 50+a, 200+a), fill=(0, 192, 192))\n",
    "    draw.ellipse((272, 200, 272+b, 200+b), fill=(0, 192, 192))\n",
    "    draw.ellipse((472, 200, 472+c, 200+c), fill=(0, 192, 192))\n",
    "    \n",
    "\n",
    "\n",
    "    draw.text((50, 250),\"a\",(255,255,255), font=font)\n",
    "    draw.text((272, 250),\"b\",(255,255,255), font=font)\n",
    "    draw.text((472, 250),\"c\",(255,255,255), font=font)\n",
    "\n",
    "    display(im)"
   ]
  },
  {
   "cell_type": "code",
   "execution_count": 151,
   "id": "44997e6f",
   "metadata": {},
   "outputs": [
    {
     "data": {
      "image/png": "[encoded data removed]",
      "text/plain": [
       "<PIL.Image.Image image mode=RGB size=666x400 at 0x10CD25970>"
      ]
     },
     "metadata": {},
     "output_type": "display_data"
    }
   ],
   "source": [
    "rect(diametros[\"diametro_a\"], diametros[\"diametro_b\"], diametros[\"diametro_c\"],dic_principal[\"base\"], dic_principal[\"altura\"] )"
   ]
  },
  {
   "cell_type": "code",
   "execution_count": 7,
   "id": "1a7e58a7",
   "metadata": {},
   "outputs": [
    {
     "name": "stdout",
     "output_type": "stream",
     "text": [
      "Elige cuál de las figuras azules tienen el área más parecida a la figura rojas\n"
     ]
    }
   ],
   "source": [
    "input_usuario=input(\"Elige cuál de las figuras azules tienen el área más parecida a la figura roja\")\n",
    "\n",
    "#función que obtiene input de usuario y comunica ganador\"\n",
    "def ganador():\n",
    "    if input_usuario == figura_ganadora:\n",
    "        print(\"Felicidades, ganaste el juego\")\n",
    "    else: \n",
    "        print(\"Buena suerte en la próxima vez\")\n",
    "    "
   ]
  }
 ],
 "metadata": {
  "kernelspec": {
   "display_name": "Python 3 (ipykernel)",
   "language": "python",
   "name": "python3"
  },
  "language_info": {
   "codemirror_mode": {
    "name": "ipython",
    "version": 3
   },
   "file_extension": ".py",
   "mimetype": "text/x-python",
   "name": "python",
   "nbconvert_exporter": "python",
   "pygments_lexer": "ipython3",
   "version": "3.9.7"
  }
 },
 "nbformat": 4,
 "nbformat_minor": 5
}
