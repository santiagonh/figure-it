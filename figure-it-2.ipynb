{
 "cells": [
  {
   "cell_type": "code",
   "execution_count": 117,
   "id": "b1a74cab",
   "metadata": {
    "scrolled": true
   },
   "outputs": [],
   "source": [
    "import PIL as pl\n",
    "from PIL import Image\n",
    "from PIL import ImageFont\n",
    "from PIL import ImageDraw \n",
    "import random\n",
    "import math"
   ]
  },
  {
   "cell_type": "code",
   "execution_count": 118,
   "id": "ec0465f3",
   "metadata": {},
   "outputs": [],
   "source": [
    "#función que crea las áreas de las figuras, devuelve un diccionario.\n",
    "def areas():\n",
    "    area_principal=random.randint(2000, 18000)\n",
    "    \n",
    "    area_a=area_principal + (random.randint(-1000, 18000))\n",
    "    area_b=area_principal + (random.randint(-1000, 18000))\n",
    "    area_c=area_principal + (random.randint(-1000, 18000))\n",
    "    diccionario_areas = {\"principal\":area_principal, \"figura_a\":area_a, \"figura_b\":area_b, \"figura_c\":area_c}\n",
    "    return diccionario_areas\n",
    "\n",
    "\n",
    "    \n",
    "    "
   ]
  },
  {
   "cell_type": "code",
   "execution_count": 119,
   "id": "1a983e26",
   "metadata": {},
   "outputs": [
    {
     "data": {
      "text/plain": [
       "{'principal': 15435, 'figura_a': 29376, 'figura_b': 21207, 'figura_c': 25314}"
      ]
     },
     "execution_count": 119,
     "metadata": {},
     "output_type": "execute_result"
    }
   ],
   "source": [
    "diccionario_areas=areas()\n",
    "diccionario_areas"
   ]
  },
  {
   "cell_type": "code",
   "execution_count": 120,
   "id": "c1084300",
   "metadata": {},
   "outputs": [],
   "source": [
    "#función que obtiene los lados del rectángulo a partir del area obtenida en def areas()\n",
    "def lados_rect(area):\n",
    "    base=random.randint(100, 200)\n",
    "    altura=area/base\n",
    "    dic_principal={\"base\":base, \"altura\":altura}\n",
    "    return dic_principal"
   ]
  },
  {
   "cell_type": "code",
   "execution_count": 121,
   "id": "9d2d2fca",
   "metadata": {},
   "outputs": [],
   "source": [
    "dic_principal=lados_rect(diccionario_areas[\"principal\"])"
   ]
  },
  {
   "cell_type": "code",
   "execution_count": 122,
   "id": "a60fce5e",
   "metadata": {
    "scrolled": true
   },
   "outputs": [
    {
     "data": {
      "text/plain": [
       "{'base': 165, 'altura': 93.54545454545455}"
      ]
     },
     "execution_count": 122,
     "metadata": {},
     "output_type": "execute_result"
    }
   ],
   "source": [
    "dic_principal"
   ]
  },
  {
   "cell_type": "code",
   "execution_count": 123,
   "id": "08566003",
   "metadata": {},
   "outputs": [],
   "source": [
    "#función para crear diámetros a partir de las áreas de def areas(), devuelve otro diccionario\n",
    "def diametros(area_a,area_b,area_c):\n",
    "    diametro_a=(area_a/math.pi)**(1/2)*2\n",
    "    diametro_b=(area_b/math.pi)**(1/2)*2\n",
    "    diametro_c=(area_c/math.pi)**(1/2)*2\n",
    "    dic_diametro={\"diametro_a\":diametro_a,\"diametro_b\":diametro_b,\"diametro_c\":diametro_c}\n",
    "    return dic_diametro\n"
   ]
  },
  {
   "cell_type": "code",
   "execution_count": 124,
   "id": "e222a121",
   "metadata": {
    "scrolled": true
   },
   "outputs": [],
   "source": [
    "diametros=diametros(diccionario_areas['figura_a'], diccionario_areas['figura_b'], diccionario_areas['figura_c'])"
   ]
  },
  {
   "cell_type": "code",
   "execution_count": 125,
   "id": "9a28d6dd",
   "metadata": {},
   "outputs": [
    {
     "data": {
      "text/plain": [
       "{'diametro_a': 193.3977374897135,\n",
       " 'diametro_b': 164.32160851573536,\n",
       " 'diametro_c': 179.52934533224897}"
      ]
     },
     "execution_count": 125,
     "metadata": {},
     "output_type": "execute_result"
    }
   ],
   "source": [
    "diametros"
   ]
  },
  {
   "cell_type": "code",
   "execution_count": 126,
   "id": "3c4c059b",
   "metadata": {},
   "outputs": [],
   "source": [
    "#función que hace el dibujo para adivinar las figuras a partir de diámetros (obtenidos de def diametros) \n",
    "# y lados de rectangulo (obtenidos de def lados_rect()), traza dibujo.\n",
    "def rect (a, b, c, d, e):\n",
    "    im = Image.new('RGB', (666, 400), (200, 200, 200))\n",
    "    draw = ImageDraw.Draw(im)\n",
    "\n",
    "    # font = ImageFont.truetype(<font-file>, <font-size>)\n",
    "    font_type=\"/Users/groundcontrol/Documents/Processing/modes/PythonMode/examples/Basics/Data/DatatypeConversion/data/Georgia.ttf\"\n",
    "    font = ImageFont.truetype(font_type, 25)\n",
    "    \n",
    "    draw.rectangle((272, 50, 272+e, 50+d), fill=\"red\")\n",
    "    \n",
    "    draw.ellipse((50, 200, 50+a, 200+a), fill=(0, 192, 192))\n",
    "    draw.ellipse((272, 200, 272+b, 200+b), fill=(0, 192, 192))\n",
    "    draw.ellipse((472, 200, 472+c, 200+c), fill=(0, 192, 192))\n",
    "    \n",
    "\n",
    "\n",
    "    draw.text((50, 250),\"a\",(255,255,255), font=font)\n",
    "    draw.text((272, 250),\"b\",(255,255,255), font=font)\n",
    "    draw.text((472, 250),\"c\",(255,255,255), font=font)\n",
    "\n",
    "    display(im)"
   ]
  },
  {
   "cell_type": "code",
   "execution_count": 127,
   "id": "51c96515",
   "metadata": {},
   "outputs": [],
   "source": [
    "def figura_ganadora(principal, figura_a, figura_b, figura_c):\n",
    "    dic_fig_ganadora={\"a\":(principal-figura_a)**2, \"b\":(principal-figura_b)**2, \"c\":(principal-figura_c)**2}\n",
    "    print(dic_fig_ganadora)\n",
    "    return dic_fig_ganadora\n",
    "    \n",
    "    "
   ]
  },
  {
   "cell_type": "code",
   "execution_count": 128,
   "id": "d092c224",
   "metadata": {},
   "outputs": [
    {
     "name": "stdout",
     "output_type": "stream",
     "text": [
      "{'a': 194351481, 'b': 33315984, 'c': 97594641}\n"
     ]
    }
   ],
   "source": [
    "diferencia=figura_ganadora(diccionario_areas[\"principal\"], diccionario_areas[\"figura_a\"], diccionario_areas[\"figura_b\"], diccionario_areas[\"figura_c\"])"
   ]
  },
  {
   "cell_type": "code",
   "execution_count": 129,
   "id": "a69456e8",
   "metadata": {},
   "outputs": [
    {
     "data": {
      "text/plain": [
       "{'principal': 15435, 'figura_a': 29376, 'figura_b': 21207, 'figura_c': 25314}"
      ]
     },
     "execution_count": 129,
     "metadata": {},
     "output_type": "execute_result"
    }
   ],
   "source": [
    "diccionario_areas"
   ]
  },
  {
   "cell_type": "code",
   "execution_count": 130,
   "id": "7a203bb0",
   "metadata": {},
   "outputs": [
    {
     "data": {
      "image/png": "[encoded data removed]",
      "text/plain": [
       "<PIL.Image.Image image mode=RGB size=666x400 at 0x10E55BA60>"
      ]
     },
     "metadata": {},
     "output_type": "display_data"
    }
   ],
   "source": [
    "rect(diametros[\"diametro_a\"], diametros[\"diametro_b\"], diametros[\"diametro_c\"],dic_principal[\"base\"], dic_principal[\"altura\"] )"
   ]
  },
  {
   "cell_type": "code",
   "execution_count": 131,
   "id": "1a7e58a7",
   "metadata": {},
   "outputs": [],
   "source": [
    "\n",
    "#función que obtiene input de usuario y comunica ganador\"\n",
    "def ganador():\n",
    "    input_usuario=input(\"Elige cuál de las figuras azules tienen el área más parecida a la figura roja\")\n",
    "    if input_usuario == min(diferencia,key=diferencia.get):\n",
    "        return print(\"Felicidades, ganaste el juego\")\n",
    "    else: \n",
    "        return print(\"Buena suerte en la próxima vez\")\n",
    "    "
   ]
  },
  {
   "cell_type": "code",
   "execution_count": 132,
   "id": "4d39b96f",
   "metadata": {},
   "outputs": [
    {
     "name": "stdout",
     "output_type": "stream",
     "text": [
      "Elige cuál de las figuras azules tienen el área más parecida a la figura rojab\n",
      "Felicidades, ganaste el juego\n"
     ]
    }
   ],
   "source": [
    "ganador()"
   ]
  },
  {
   "cell_type": "code",
   "execution_count": null,
   "id": "26d0b445",
   "metadata": {},
   "outputs": [],
   "source": []
  }
 ],
 "metadata": {
  "kernelspec": {
   "display_name": "Python 3 (ipykernel)",
   "language": "python",
   "name": "python3"
  },
  "language_info": {
   "codemirror_mode": {
    "name": "ipython",
    "version": 3
   },
   "file_extension": ".py",
   "mimetype": "text/x-python",
   "name": "python",
   "nbconvert_exporter": "python",
   "pygments_lexer": "ipython3",
   "version": "3.9.7"
  }
 },
 "nbformat": 4,
 "nbformat_minor": 5
}
