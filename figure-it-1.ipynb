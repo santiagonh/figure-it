{
 "cells": [
  {
   "cell_type": "code",
   "execution_count": 32,
   "id": "b1a74cab",
   "metadata": {
    "scrolled": true
   },
   "outputs": [],
   "source": [
    "import PIL as pl\n",
    "from PIL import Image\n",
    "from PIL import ImageFont\n",
    "from PIL import ImageDraw \n",
    "import random\n",
    "import math"
   ]
  },
  {
   "cell_type": "code",
   "execution_count": 39,
   "id": "192aec8e",
   "metadata": {},
   "outputs": [],
   "source": [
    "d=200"
   ]
  },
  {
   "cell_type": "code",
   "execution_count": 41,
   "id": "dbbcb0b9",
   "metadata": {},
   "outputs": [],
   "source": [
    "#### Vamos a usar solo rect() por ahora\n",
    "\n",
    "def circ ():\n",
    "    im = Image.new('RGB', (666, 400), (200, 200, 200))\n",
    "    draw = ImageDraw.Draw(im)\n",
    "\n",
    "    # font = ImageFont.truetype(<font-file>, <font-size>)\n",
    "    font_type=\"/Users/groundcontrol/Documents/Processing/modes/PythonMode/examples/Basics/Data/DatatypeConversion/data/Georgia.ttf\"\n",
    "    font = ImageFont.truetype(font_type, 25)\n",
    "    #diámetro = x1 - x2 o y1 - y2\n",
    "    draw.ellipse((200, 50, 200+d, 50+d), fill=\"red\")\n",
    "    \n",
    "    draw.rectangle((50, 250, 150, 300), fill=(0, 192, 192))\n",
    "    draw.rectangle((272, 250, 372, 300), fill=(0, 192, 192))\n",
    "    draw.rectangle((472, 250, 572, 300), fill=(0, 192, 192))\n",
    "    \n",
    "\n",
    "\n",
    "    draw.text((50, 250),\"a\",(255,255,255), font=font)\n",
    "    draw.text((272, 250),\"b\",(255,255,255), font=font)\n",
    "    draw.text((472, 250),\"c\",(255,255,255), font=font)\n",
    "\n",
    "    display(im)"
   ]
  },
  {
   "cell_type": "code",
   "execution_count": 42,
   "id": "c04e917b",
   "metadata": {},
   "outputs": [
    {
     "data": {
      "image/png": "[encoded data removed]",
      "text/plain": [
       "<PIL.Image.Image image mode=RGB size=666x400 at 0x10CD25B80>"
      ]
     },
     "metadata": {},
     "output_type": "display_data"
    }
   ],
   "source": [
    "circ()"
   ]
  },
  {
   "cell_type": "code",
   "execution_count": 43,
   "id": "6209fd57",
   "metadata": {},
   "outputs": [],
   "source": [
    "def rect ():\n",
    "    im = Image.new('RGB', (666, 400), (200, 200, 200))\n",
    "    draw = ImageDraw.Draw(im)\n",
    "\n",
    "    # font = ImageFont.truetype(<font-file>, <font-size>)\n",
    "    font_type=\"/Users/groundcontrol/Documents/Processing/modes/PythonMode/examples/Basics/Data/DatatypeConversion/data/Georgia.ttf\"\n",
    "    font = ImageFont.truetype(font_type, 25)\n",
    "    \n",
    "    draw.rectangle((272, 50, 372, 150), fill=\"red\")\n",
    "    \n",
    "    draw.ellipse((50, 200, 50+d, 200+d), fill=(0, 192, 192))\n",
    "    draw.ellipse((272, 200, 372, 300), fill=(0, 192, 192))\n",
    "    draw.ellipse((472, 200, 572, 300), fill=(0, 192, 192))\n",
    "    \n",
    "\n",
    "\n",
    "    draw.text((50, 250),\"a\",(255,255,255), font=font)\n",
    "    draw.text((272, 250),\"b\",(255,255,255), font=font)\n",
    "    draw.text((472, 250),\"c\",(255,255,255), font=font)\n",
    "\n",
    "    display(im)"
   ]
  },
  {
   "cell_type": "code",
   "execution_count": 44,
   "id": "e9505f01",
   "metadata": {},
   "outputs": [
    {
     "data": {
      "image/png": "[encoded data removed]",
      "text/plain": [
       "<PIL.Image.Image image mode=RGB size=666x400 at 0x10E084F40>"
      ]
     },
     "metadata": {},
     "output_type": "display_data"
    }
   ],
   "source": [
    "rect()"
   ]
  },
  {
   "cell_type": "code",
   "execution_count": 117,
   "id": "ca09b321",
   "metadata": {},
   "outputs": [],
   "source": [
    "area_principal=random.randint(2000, 18000)\n",
    "    \n",
    "area_a=area_principal + (random.randint(-1000, 18000))\n",
    "area_b=area_principal + (random.randint(-1000, 18000))\n",
    "area_c=area_principal + (random.randint(-1000, 18000))\n",
    "diccionario_areas = {\"principal\":area_principal, \"figura_a\":area_a, \"figura_b\":area_b, \"figura_c\":area_c}"
   ]
  },
  {
   "cell_type": "code",
   "execution_count": 118,
   "id": "ec0465f3",
   "metadata": {},
   "outputs": [],
   "source": [
    "def areas():\n",
    "    area_principal=random.randint(2000, 18000)\n",
    "    \n",
    "    area_a=area_principal + (random.randint(-1000, 18000))\n",
    "    area_b=area_principal + (random.randint(-1000, 18000))\n",
    "    area_c=area_principal + (random.randint(-1000, 18000))\n",
    "    \n",
    "\n",
    "diccionario_areas = {\"principal\":area_principal, \"figura_a\":area_a, \"figura_b\":area_b, \"figura_c\":area_c}\n",
    "    \n",
    "    "
   ]
  },
  {
   "cell_type": "code",
   "execution_count": 119,
   "id": "8e618976",
   "metadata": {},
   "outputs": [],
   "source": [
    "areas()"
   ]
  },
  {
   "cell_type": "code",
   "execution_count": 120,
   "id": "1a983e26",
   "metadata": {},
   "outputs": [
    {
     "data": {
      "text/plain": [
       "{'principal': 4212, 'figura_a': 6660, 'figura_b': 17282, 'figura_c': 22007}"
      ]
     },
     "execution_count": 120,
     "metadata": {},
     "output_type": "execute_result"
    }
   ],
   "source": [
    "diccionario_areas"
   ]
  },
  {
   "cell_type": "code",
   "execution_count": 121,
   "id": "08566003",
   "metadata": {},
   "outputs": [],
   "source": [
    "def diametros():\n",
    "    diametro_a=(area_a/math.pi)**(1/2)*2\n",
    "    diametro_b=(area_b/math.pi)**(1/2)*2\n",
    "    diametro_c=(area_c/math.pi)**(1/2)*2\n",
    "    dic_diametro={\"diametro_a\":diametro_a,\"diametro_b\":diametro_b,\"diametro_c\":diametro_c}\n",
    "    return dic_diametro\n",
    "\n",
    "    \n",
    "    "
   ]
  },
  {
   "cell_type": "code",
   "execution_count": 122,
   "id": "5e3dd986",
   "metadata": {
    "scrolled": true
   },
   "outputs": [],
   "source": [
    "diametros=diametros()"
   ]
  },
  {
   "cell_type": "code",
   "execution_count": 123,
   "id": "abd00c6e",
   "metadata": {},
   "outputs": [
    {
     "data": {
      "text/plain": [
       "148.33787719969934"
      ]
     },
     "execution_count": 123,
     "metadata": {},
     "output_type": "execute_result"
    }
   ],
   "source": [
    "diametros[\"diametro_b\"]"
   ]
  },
  {
   "cell_type": "code",
   "execution_count": 140,
   "id": "0103a034",
   "metadata": {},
   "outputs": [],
   "source": [
    "def rect (a, b, c, d, e):\n",
    "    im = Image.new('RGB', (666, 400), (200, 200, 200))\n",
    "    draw = ImageDraw.Draw(im)\n",
    "\n",
    "    # font = ImageFont.truetype(<font-file>, <font-size>)\n",
    "    font_type=\"/Users/groundcontrol/Documents/Processing/modes/PythonMode/examples/Basics/Data/DatatypeConversion/data/Georgia.ttf\"\n",
    "    font = ImageFont.truetype(font_type, 25)\n",
    "    \n",
    "    draw.rectangle((272, 50, 272+e, 50+d), fill=\"red\")\n",
    "    \n",
    "    draw.ellipse((50, 200, 50+a, 200+a), fill=(0, 192, 192))\n",
    "    draw.ellipse((272, 200, 272+b, 200+b), fill=(0, 192, 192))\n",
    "    draw.ellipse((472, 200, 472+c, 200+c), fill=(0, 192, 192))\n",
    "    \n",
    "\n",
    "\n",
    "    draw.text((50, 250),\"a\",(255,255,255), font=font)\n",
    "    draw.text((272, 250),\"b\",(255,255,255), font=font)\n",
    "    draw.text((472, 250),\"c\",(255,255,255), font=font)\n",
    "\n",
    "    display(im)"
   ]
  },
  {
   "cell_type": "code",
   "execution_count": 151,
   "id": "cd4f73d2",
   "metadata": {},
   "outputs": [
    {
     "data": {
      "image/png": "[encoded data removed]",
      "text/plain": [
       "<PIL.Image.Image image mode=RGB size=666x400 at 0x10CD25970>"
      ]
     },
     "metadata": {},
     "output_type": "display_data"
    }
   ],
   "source": [
    "rect(diametros[\"diametro_a\"], diametros[\"diametro_b\"], diametros[\"diametro_c\"],dic_principal[\"base\"], dic_principal[\"altura\"] )"
   ]
  },
  {
   "cell_type": "code",
   "execution_count": 7,
   "id": "1a7e58a7",
   "metadata": {},
   "outputs": [
    {
     "name": "stdout",
     "output_type": "stream",
     "text": [
      "Elige cuál de las figuras azules tienen el área más parecida a la figura rojas\n"
     ]
    }
   ],
   "source": [
    "input_usuario=input(\"Elige cuál de las figuras azules tienen el área más parecida a la figura roja\")\n",
    "\n",
    "def ganador():\n",
    "    if input_usuario == figura_ganadora:\n",
    "        print(\"Felicidades, ganaste el juego\")\n",
    "    else: \n",
    "        print(\"Buena suerte en la próxima vez\")\n",
    "    "
   ]
  },
  {
   "cell_type": "code",
   "execution_count": 148,
   "id": "dda00b46",
   "metadata": {},
   "outputs": [],
   "source": [
    "def lados_rect(area):\n",
    "    base=random.randint(100, 200)\n",
    "    altura=area/base\n",
    "    dic_principal={\"base\":base, \"altura\":altura}\n",
    "    return dic_principal"
   ]
  },
  {
   "cell_type": "code",
   "execution_count": 149,
   "id": "9153eeef",
   "metadata": {},
   "outputs": [],
   "source": [
    "dic_principal=lados_rect(diccionario_areas[\"principal\"])"
   ]
  },
  {
   "cell_type": "code",
   "execution_count": 150,
   "id": "b34a9508",
   "metadata": {},
   "outputs": [
    {
     "data": {
      "text/plain": [
       "{'base': 103, 'altura': 40.89320388349515}"
      ]
     },
     "execution_count": 150,
     "metadata": {},
     "output_type": "execute_result"
    }
   ],
   "source": [
    "dic_principal"
   ]
  }
 ],
 "metadata": {
  "kernelspec": {
   "display_name": "Python 3 (ipykernel)",
   "language": "python",
   "name": "python3"
  },
  "language_info": {
   "codemirror_mode": {
    "name": "ipython",
    "version": 3
   },
   "file_extension": ".py",
   "mimetype": "text/x-python",
   "name": "python",
   "nbconvert_exporter": "python",
   "pygments_lexer": "ipython3",
   "version": "3.9.7"
  }
 },
 "nbformat": 4,
 "nbformat_minor": 5
}
