{
 "cells": [
  {
   "cell_type": "code",
   "execution_count": 72,
   "id": "b1a74cab",
   "metadata": {
    "scrolled": true
   },
   "outputs": [],
   "source": [
    "import PIL as pl\n",
    "from PIL import Image\n",
    "from PIL import ImageFont\n",
    "from PIL import ImageDraw "
   ]
  },
  {
   "cell_type": "code",
   "execution_count": 162,
   "id": "192aec8e",
   "metadata": {},
   "outputs": [],
   "source": [
    "d=200"
   ]
  },
  {
   "cell_type": "code",
   "execution_count": null,
   "id": "f0f6a87f",
   "metadata": {},
   "outputs": [],
   "source": [
    "b="
   ]
  },
  {
   "cell_type": "code",
   "execution_count": 151,
   "id": "dbbcb0b9",
   "metadata": {},
   "outputs": [],
   "source": [
    "def circ ():\n",
    "    im = Image.new('RGB', (666, 400), (200, 200, 200))\n",
    "    draw = ImageDraw.Draw(im)\n",
    "\n",
    "    # font = ImageFont.truetype(<font-file>, <font-size>)\n",
    "    font_type=\"/Users/groundcontrol/Documents/Processing/modes/PythonMode/examples/Basics/Data/DatatypeConversion/data/Georgia.ttf\"\n",
    "    font = ImageFont.truetype(font_type, 25)\n",
    "    #diámetro = x1 - x2 o y1 - y2\n",
    "    draw.ellipse((200, 50, 200+d, 50+d), fill=\"red\")\n",
    "    \n",
    "    draw.rectangle((50, 250, 150, 300), fill=(0, 192, 192))\n",
    "    draw.rectangle((272, 250, 372, 300), fill=(0, 192, 192))\n",
    "    draw.rectangle((472, 250, 572, 300), fill=(0, 192, 192))\n",
    "    \n",
    "\n",
    "\n",
    "    draw.text((50, 250),\"a\",(255,255,255), font=font)\n",
    "    draw.text((272, 250),\"b\",(255,255,255), font=font)\n",
    "    draw.text((472, 250),\"c\",(255,255,255), font=font)\n",
    "\n",
    "    display(im)"
   ]
  },
  {
   "cell_type": "code",
   "execution_count": 152,
   "id": "c04e917b",
   "metadata": {},
   "outputs": [
    {
     "data": {
      "image/png": "[encoded data removed]",
      "text/plain": [
       "<PIL.Image.Image image mode=RGB size=666x400 at 0x10F911C40>"
      ]
     },
     "metadata": {},
     "output_type": "display_data"
    }
   ],
   "source": [
    "circ()"
   ]
  },
  {
   "cell_type": "code",
   "execution_count": 91,
   "id": "6209fd57",
   "metadata": {},
   "outputs": [],
   "source": [
    "def rect ():\n",
    "    im = Image.new('RGB', (666, 400), (200, 200, 200))\n",
    "    draw = ImageDraw.Draw(im)\n",
    "\n",
    "    # font = ImageFont.truetype(<font-file>, <font-size>)\n",
    "    font_type=\"/Users/groundcontrol/Documents/Processing/modes/PythonMode/examples/Basics/Data/DatatypeConversion/data/Georgia.ttf\"\n",
    "    font = ImageFont.truetype(font_type, 25)\n",
    "    \n",
    "    draw.rectangle((272, 50, 372, 150), fill=\"red\")\n",
    "    \n",
    "    draw.ellipse((50, 200, 50+d, 200+d), fill=(0, 192, 192))\n",
    "    draw.ellipse((272, 200, 372, 300), fill=(0, 192, 192))\n",
    "    draw.ellipse((472, 200, 572, 300), fill=(0, 192, 192))\n",
    "    \n",
    "\n",
    "\n",
    "    draw.text((50, 250),\"a\",(255,255,255), font=font)\n",
    "    draw.text((272, 250),\"b\",(255,255,255), font=font)\n",
    "    draw.text((472, 250),\"c\",(255,255,255), font=font)\n",
    "\n",
    "    display(im)"
   ]
  },
  {
   "cell_type": "code",
   "execution_count": 92,
   "id": "e9505f01",
   "metadata": {},
   "outputs": [
    {
     "data": {
      "image/png": "[encoded data removed]",
      "text/plain": [
       "<PIL.Image.Image image mode=RGB size=666x400 at 0x10BE1BA60>"
      ]
     },
     "metadata": {},
     "output_type": "display_data"
    }
   ],
   "source": [
    "rect()"
   ]
  },
  {
   "cell_type": "code",
   "execution_count": 63,
   "id": "ec0465f3",
   "metadata": {},
   "outputs": [],
   "source": [
    "import random\n",
    "\n",
    "def areas():\n",
    "    area_principal=random.randint(20, 180)\n",
    "    \n",
    "    area_a=area_principal + (random.randint(-5, 20))\n",
    "    area_b=area_principal + (random.randint(-5, 20))\n",
    "    area_c=area_principal + (random.randint(-5, 20))\n",
    "    \n",
    "\n",
    "diccionario_areas = {\"principal\":area_principal, \"figura_a\":area_a, \"figura_b\":area_b, \"figura_c\":area_c}\n",
    "    \n",
    "    "
   ]
  },
  {
   "cell_type": "code",
   "execution_count": 64,
   "id": "1a983e26",
   "metadata": {},
   "outputs": [
    {
     "data": {
      "text/plain": [
       "{'principal': 36, 'figura_a': 38, 'figura_b': 34, 'figura_c': 47}"
      ]
     },
     "execution_count": 64,
     "metadata": {},
     "output_type": "execute_result"
    }
   ],
   "source": [
    "diccionario_areas"
   ]
  },
  {
   "cell_type": "code",
   "execution_count": 65,
   "id": "08566003",
   "metadata": {},
   "outputs": [],
   "source": [
    "import math\n",
    "\n",
    "def diametros():\n",
    "    diametro_a"
   ]
  },
  {
   "cell_type": "code",
   "execution_count": 69,
   "id": "fad15dbe",
   "metadata": {},
   "outputs": [
    {
     "name": "stdout",
     "output_type": "stream",
     "text": [
      "6.579524642479541\n"
     ]
    }
   ],
   "source": [
    "d=(area_b/math.pi)**(1/2)*2\n",
    "print(diametro)"
   ]
  },
  {
   "cell_type": "code",
   "execution_count": 101,
   "id": "b807a865",
   "metadata": {},
   "outputs": [
    {
     "name": "stdout",
     "output_type": "stream",
     "text": [
      "principal\n",
      "figura_a\n",
      "figura_b\n",
      "figura_c\n"
     ]
    }
   ],
   "source": [
    "for figura in diccionario_areas:\n",
    " print(figura)   \n",
    "#((figura/math.pi)**1/2)*2"
   ]
  },
  {
   "cell_type": "code",
   "execution_count": 40,
   "id": "1a7e58a7",
   "metadata": {},
   "outputs": [
    {
     "data": {
      "text/plain": [
       "'s'"
      ]
     },
     "execution_count": 40,
     "metadata": {},
     "output_type": "execute_result"
    }
   ],
   "source": [
    "eleccion_usuario=input(\"Elige cuál de las figuras azules tienen el área más parecida a la figura roja\")\n",
    "\n",
    "def ganador():\n",
    "    if input_usuario == figura_ganadora:\n",
    "        print(\"Felicidades, ganaste el juego\")\n",
    "    else: \n",
    "        print(\"Buena suerte en la próxima vez\")\n",
    "    "
   ]
  }
 ],
 "metadata": {
  "kernelspec": {
   "display_name": "Python 3 (ipykernel)",
   "language": "python",
   "name": "python3"
  },
  "language_info": {
   "codemirror_mode": {
    "name": "ipython",
    "version": 3
   },
   "file_extension": ".py",
   "mimetype": "text/x-python",
   "name": "python",
   "nbconvert_exporter": "python",
   "pygments_lexer": "ipython3",
   "version": "3.9.7"
  }
 },
 "nbformat": 4,
 "nbformat_minor": 5
}
