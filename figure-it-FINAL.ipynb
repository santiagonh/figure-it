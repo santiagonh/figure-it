{
 "cells": [
  {
   "cell_type": "code",
   "execution_count": 108,
   "id": "b1a74cab",
   "metadata": {
    "scrolled": true
   },
   "outputs": [],
   "source": [
    "import PIL as pl\n",
    "from PIL import Image\n",
    "from PIL import ImageFont\n",
    "from PIL import ImageDraw \n",
    "from IPython.display import display\n",
    "import random\n",
    "import math"
   ]
  },
  {
   "cell_type": "code",
   "execution_count": 109,
   "id": "ec0465f3",
   "metadata": {},
   "outputs": [],
   "source": [
    "#función que crea las áreas de las figuras, devuelve un diccionario.\n",
    "def areas():\n",
    "    area_principal=random.randint(2000, 18000)\n",
    "    \n",
    "    area_a=area_principal + (random.randint(-1000, 1800))\n",
    "    area_b=area_principal + (random.randint(-1000, 1800))\n",
    "    area_c=area_principal + (random.randint(-1000, 1800))\n",
    "    diccionario_areas = {\"principal\":area_principal, \"figura_a\":area_a, \"figura_b\":area_b, \"figura_c\":area_c}\n",
    "    return diccionario_areas\n",
    "\n",
    "\n",
    "    \n",
    "    "
   ]
  },
  {
   "cell_type": "code",
   "execution_count": 110,
   "id": "1a983e26",
   "metadata": {},
   "outputs": [
    {
     "data": {
      "text/plain": [
       "{'principal': 7483, 'figura_a': 7962, 'figura_b': 8066, 'figura_c': 7770}"
      ]
     },
     "execution_count": 110,
     "metadata": {},
     "output_type": "execute_result"
    }
   ],
   "source": [
    "diccionario_areas=areas()\n",
    "diccionario_areas"
   ]
  },
  {
   "cell_type": "code",
   "execution_count": 111,
   "id": "717783e0",
   "metadata": {},
   "outputs": [],
   "source": [
    "#función que obtiene los lados del rectángulo a partir del area obtenida en def areas()\n",
    "def lados_rect(area):\n",
    "    base=random.randint(100, 200)\n",
    "    altura=area/base\n",
    "    dic_principal={\"base\":base, \"altura\":altura}\n",
    "    return dic_principal"
   ]
  },
  {
   "cell_type": "code",
   "execution_count": 112,
   "id": "ed31b674",
   "metadata": {},
   "outputs": [],
   "source": [
    "dic_principal=lados_rect(diccionario_areas[\"principal\"])"
   ]
  },
  {
   "cell_type": "code",
   "execution_count": 113,
   "id": "1e8799a4",
   "metadata": {
    "scrolled": true
   },
   "outputs": [
    {
     "data": {
      "text/plain": [
       "{'base': 126, 'altura': 59.388888888888886}"
      ]
     },
     "execution_count": 113,
     "metadata": {},
     "output_type": "execute_result"
    }
   ],
   "source": [
    "dic_principal"
   ]
  },
  {
   "cell_type": "code",
   "execution_count": 114,
   "id": "08566003",
   "metadata": {},
   "outputs": [],
   "source": [
    "#función para crear diámetros a partir de las áreas de def areas(), devuelve otro diccionario\n",
    "def diametros(area_a,area_b,area_c):\n",
    "    diametro_a=(area_a/math.pi)**(1/2)*2\n",
    "    diametro_b=(area_b/math.pi)**(1/2)*2\n",
    "    diametro_c=(area_c/math.pi)**(1/2)*2\n",
    "    dic_diametro={\"diametro_a\":diametro_a,\"diametro_b\":diametro_b,\"diametro_c\":diametro_c}\n",
    "    return dic_diametro\n"
   ]
  },
  {
   "cell_type": "code",
   "execution_count": 115,
   "id": "60a7e91c",
   "metadata": {
    "scrolled": true
   },
   "outputs": [],
   "source": [
    "diametros=diametros(diccionario_areas['figura_a'], diccionario_areas['figura_b'], diccionario_areas['figura_c'])"
   ]
  },
  {
   "cell_type": "code",
   "execution_count": 116,
   "id": "9ca02f89",
   "metadata": {},
   "outputs": [
    {
     "data": {
      "text/plain": [
       "{'diametro_a': 100.6853179722911,\n",
       " 'diametro_b': 101.34076261719083,\n",
       " 'diametro_c': 99.46391940091752}"
      ]
     },
     "execution_count": 116,
     "metadata": {},
     "output_type": "execute_result"
    }
   ],
   "source": [
    "diametros"
   ]
  },
  {
   "cell_type": "code",
   "execution_count": 117,
   "id": "21daaf6d",
   "metadata": {},
   "outputs": [],
   "source": [
    "#función que hace el dibujo para adivinar las figuras a partir de diámetros (obtenidos de def diametros) \n",
    "# y lados de rectangulo (obtenidos de def lados_rect()), traza dibujo.\n",
    "def rect (a, b, c, d, e):\n",
    "    im = Image.new('RGB', (666, 400), (200, 200, 200))\n",
    "    draw = ImageDraw.Draw(im)\n",
    "\n",
    "    # font = ImageFont.truetype(<font-file>, <font-size>)\n",
    "    font_type=\"/Users/groundcontrol/Documents/Processing/modes/PythonMode/examples/Basics/Data/DatatypeConversion/data/Georgia.ttf\"\n",
    "    font = ImageFont.truetype(font_type, 25)\n",
    "    \n",
    "    draw.rectangle((272, 50, 272+e, 50+d), fill=\"red\")\n",
    "    \n",
    "    draw.ellipse((50, 200, 50+a, 200+a), fill=(0, 192, 192))\n",
    "    draw.ellipse((272, 200, 272+b, 200+b), fill=(0, 192, 192))\n",
    "    draw.ellipse((472, 200, 472+c, 200+c), fill=(0, 192, 192))\n",
    "    \n",
    "\n",
    "\n",
    "    draw.text((50, 250),\"a\",(255,255,255), font=font)\n",
    "    draw.text((272, 250),\"b\",(255,255,255), font=font)\n",
    "    draw.text((472, 250),\"c\",(255,255,255), font=font)\n",
    "\n",
    "    return im"
   ]
  },
  {
   "cell_type": "code",
   "execution_count": 118,
   "id": "926aa658",
   "metadata": {},
   "outputs": [],
   "source": [
    "# función que calcula qué figura es la ganadora\n",
    "def figura_ganadora(principal, figura_a, figura_b, figura_c):\n",
    "    dic_fig_ganadora={\"a\":(principal-figura_a)**2, \"b\":(principal-figura_b)**2, \"c\":(principal-figura_c)**2}\n",
    "    print(dic_fig_ganadora)\n",
    "    return dic_fig_ganadora\n",
    "    \n",
    "    "
   ]
  },
  {
   "cell_type": "code",
   "execution_count": 119,
   "id": "e61a6c0a",
   "metadata": {},
   "outputs": [
    {
     "name": "stdout",
     "output_type": "stream",
     "text": [
      "{'a': 229441, 'b': 339889, 'c': 82369}\n"
     ]
    }
   ],
   "source": [
    "diferencia=figura_ganadora(diccionario_areas[\"principal\"], diccionario_areas[\"figura_a\"], diccionario_areas[\"figura_b\"], diccionario_areas[\"figura_c\"])"
   ]
  },
  {
   "cell_type": "code",
   "execution_count": 120,
   "id": "25c0af82",
   "metadata": {},
   "outputs": [
    {
     "data": {
      "text/plain": [
       "{'principal': 7483, 'figura_a': 7962, 'figura_b': 8066, 'figura_c': 7770}"
      ]
     },
     "execution_count": 120,
     "metadata": {},
     "output_type": "execute_result"
    }
   ],
   "source": [
    "diccionario_areas"
   ]
  },
  {
   "cell_type": "code",
   "execution_count": 121,
   "id": "4d02334d",
   "metadata": {},
   "outputs": [],
   "source": [
    "im=rect(diametros[\"diametro_a\"], diametros[\"diametro_b\"], diametros[\"diametro_c\"],dic_principal[\"base\"], dic_principal[\"altura\"] )"
   ]
  },
  {
   "cell_type": "code",
   "execution_count": 122,
   "id": "1a7e58a7",
   "metadata": {},
   "outputs": [],
   "source": [
    "\n",
    "#función que obtiene input de usuario y comunica ganador\"\n",
    "def ganador():\n",
    "    input_usuario=input(\"Elige cuál de las figuras azules tienen el área más parecida a la figura roja\")\n",
    "    while input_usuario not in [\"a\", \"b\", \"c\"]:\n",
    "        print(\"Input inválido, intenta de nuevo eligiendo las opciones 'a', 'b' o 'c'\")\n",
    "        input_usuario=input(\"Elige cuál de las figuras azules tienen el área más parecida a la figura roja\")\n",
    "        \n",
    "    if input_usuario == min(diferencia,key=diferencia.get):\n",
    "        return print(f\"\\nFelicidades!\\nGanaste el juego: La figura {min(diferencia,key=diferencia.get)} tiene el área más parecida a la figura roja!\",f'\\n\\nÁreas:\\nFigura Principal: {diccionario_areas[\"principal\"]}\\nFigura a: {diccionario_areas[\"figura_a\"]}\\nFigura b: {diccionario_areas[\"figura_b\"]}\\nFigura c: {diccionario_areas[\"figura_c\"]}')\n",
    "    else: \n",
    "        return print(f\"\\nPerdiste!\\nLa figura {min(diferencia,key=diferencia.get)} tiene el área más parecida a la figura roja. Buena suerte en la próxima vez.\", f'\\n\\nÁreas:\\nFigura Principal: {diccionario_areas[\"principal\"]}\\nFigura a: {diccionario_areas[\"figura_a\"]}\\nFigura b: {diccionario_areas[\"figura_b\"]}\\nFigura c: {diccionario_areas[\"figura_c\"]}')\n",
    "    "
   ]
  },
  {
   "cell_type": "code",
   "execution_count": 123,
   "id": "9800903b",
   "metadata": {},
   "outputs": [],
   "source": [
    "im.show()"
   ]
  },
  {
   "cell_type": "code",
   "execution_count": 124,
   "id": "455bba6d",
   "metadata": {
    "scrolled": false
   },
   "outputs": [
    {
     "name": "stdout",
     "output_type": "stream",
     "text": [
      "Elige cuál de las figuras azules tienen el área más parecida a la figura rojac\n",
      "\n",
      "Felicidades!\n",
      "Ganaste el juego: La figura c tiene el área más parecida a la figura roja! \n",
      "\n",
      "Áreas:\n",
      "Figura Principal: 7483\n",
      "Figura a: 7962\n",
      "Figura b: 8066\n",
      "Figura c: 7770\n"
     ]
    }
   ],
   "source": [
    "ganador()"
   ]
  }
 ],
 "metadata": {
  "kernelspec": {
   "display_name": "Python 3 (ipykernel)",
   "language": "python",
   "name": "python3"
  },
  "language_info": {
   "codemirror_mode": {
    "name": "ipython",
    "version": 3
   },
   "file_extension": ".py",
   "mimetype": "text/x-python",
   "name": "python",
   "nbconvert_exporter": "python",
   "pygments_lexer": "ipython3",
   "version": "3.9.7"
  }
 },
 "nbformat": 4,
 "nbformat_minor": 5
}
